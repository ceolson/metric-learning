{
 "cells": [
  {
   "cell_type": "code",
   "execution_count": 34,
   "metadata": {},
   "outputs": [],
   "source": [
    "import numpy as np\n",
    "from folktables import ACSDataSource, ACSMobility\n",
    "from matplotlib import pyplot as plt\n",
    "import torch\n",
    "from scipy import stats\n",
    "from scipy.sparse.linalg import lobpcg\n",
    "from scipy.linalg import eigh\n",
    "import pandas as pd\n",
    "from inFairness.distances import MahalanobisDistances, SquaredEuclideanDistance\n",
    "from inFairness.fairalgo import SenSeI\n",
    "from inFairness.auditor import SenSeIAuditor\n",
    "from tqdm.auto import tqdm\n",
    "from utils import *"
   ]
  },
  {
   "cell_type": "code",
   "execution_count": 27,
   "metadata": {},
   "outputs": [],
   "source": [
    "r = 3\n",
    "p = 30\n",
    "n = 500"
   ]
  },
  {
   "cell_type": "code",
   "execution_count": 28,
   "metadata": {},
   "outputs": [],
   "source": [
    "data_source = ACSDataSource(survey_year='2018', horizon='1-Year', survey='person')\n",
    "acs_data = data_source.get_data(states=[\"TX\"], download=True)\n",
    "acs_data_adult = acs_data[acs_data[\"AGEP\"] >= 18]\n"
   ]
  },
  {
   "cell_type": "code",
   "execution_count": 29,
   "metadata": {},
   "outputs": [
    {
     "name": "stdout",
     "output_type": "stream",
     "text": [
      "(206826, 219)\n"
     ]
    }
   ],
   "source": [
    "acs_data_cleaned = acs_data_adult.select_dtypes(include=[\"float64\", \"int64\"])\n",
    "acs_data_cleaned = acs_data_cleaned.loc[:, ~(acs_data_cleaned.isna().any())]\n",
    "acs_data_cleaned = acs_data_cleaned.loc[:, (acs_data_cleaned.var(axis=0) > 0)]\n",
    "acs_data_cleaned = acs_data_cleaned.sample(frac=1, axis=0)\n",
    "print(np.shape(np.array(acs_data_cleaned)))\n"
   ]
  },
  {
   "cell_type": "code",
   "execution_count": 30,
   "metadata": {},
   "outputs": [
    {
     "name": "stdout",
     "output_type": "stream",
     "text": [
      "Generating synthetic data...\n"
     ]
    }
   ],
   "source": [
    "print(\"Generating synthetic data...\")\n",
    "X = clean_data(2 * n, p, acs_data_cleaned)\n",
    "X_train = X[:n]\n",
    "X_test = X[n:]"
   ]
  },
  {
   "cell_type": "code",
   "execution_count": 31,
   "metadata": {},
   "outputs": [
    {
     "name": "stdout",
     "output_type": "stream",
     "text": [
      "(500, 30) (500, 30)\n"
     ]
    }
   ],
   "source": [
    "M, S, y, Astar, Kstar = generate_synthetic_data(n, r, p, X_train)\n",
    "\n",
    "print(np.shape(X_train), np.shape(X_test))"
   ]
  },
  {
   "cell_type": "code",
   "execution_count": 32,
   "metadata": {},
   "outputs": [
    {
     "name": "stderr",
     "output_type": "stream",
     "text": [
      "/n/home10/colson/metric-learning/utils.py:93: UserWarning: Exited at iteration 20 with accuracies \n",
      "[3.07213180e+04 5.61449033e-03 6.10494209e-03]\n",
      "not reaching the requested tolerance 4.470348358154297e-07.\n",
      "Use iteration 0 instead with accuracy \n",
      "0.0017873632962911183.\n",
      "\n",
      "  eigenvalues, eigenvectors = lobpcg(A=XtHX, B=Sigma, X=np.random.normal(size=(p,r)))\n",
      "/n/home10/colson/metric-learning/utils.py:93: UserWarning: Exited postprocessing with accuracies \n",
      "[3.57580156e-03 4.89425776e-18 1.02395899e-03]\n",
      "not reaching the requested tolerance 4.470348358154297e-07.\n",
      "  eigenvalues, eigenvectors = lobpcg(A=XtHX, B=Sigma, X=np.random.normal(size=(p,r)))\n",
      "/n/home10/colson/metric-learning/utils.py:96: RuntimeWarning: invalid value encountered in sqrt\n",
      "  Ahat = U @ np.diag(np.sqrt(Lambda))\n"
     ]
    }
   ],
   "source": [
    "A0 = initialization(n, r, p, S, X_train, y)"
   ]
  },
  {
   "cell_type": "code",
   "execution_count": 33,
   "metadata": {},
   "outputs": [
    {
     "data": {
      "text/plain": [
       "array([[            nan, -1.48303545e-10,  3.61248764e-03],\n",
       "       [            nan, -2.85387088e-10,  2.47951083e-03],\n",
       "       [            nan,  2.63581656e-10,  1.05579390e-03],\n",
       "       [            nan, -1.15843615e-10,  4.07588749e-03],\n",
       "       [            nan, -1.52071261e-11,  2.26314746e-03],\n",
       "       [            nan,  5.98847143e-11, -4.07034933e-03],\n",
       "       [            nan,  1.37648174e-10, -9.10850880e-04],\n",
       "       [            nan, -1.47389785e-10,  1.04465259e-03],\n",
       "       [            nan, -1.45112056e-10, -1.64447236e-03],\n",
       "       [            nan, -1.28227351e-10,  5.49811219e-04],\n",
       "       [            nan, -2.77525372e-11, -7.30609711e-05],\n",
       "       [            nan, -8.57878773e-11, -3.81936667e-03],\n",
       "       [            nan,  5.19610940e-11,  6.90087804e-04],\n",
       "       [            nan, -4.22453913e-11,  1.88136067e-03],\n",
       "       [            nan,  1.14853923e-11, -1.52105242e-03],\n",
       "       [            nan,  2.19395982e-11, -3.11549938e-03],\n",
       "       [            nan, -7.13685194e-12,  9.77537806e-04],\n",
       "       [            nan,  1.02507839e-10,  2.36772971e-03],\n",
       "       [            nan,  8.00420121e-11, -7.33164663e-04],\n",
       "       [            nan,  1.18618495e-10, -7.38963442e-04],\n",
       "       [            nan,  1.04151894e-10,  2.29146111e-03],\n",
       "       [            nan,  8.33662314e-11, -1.14188551e-03],\n",
       "       [            nan, -5.90495103e-11,  1.16561878e-04],\n",
       "       [            nan,  1.25987111e-10,  2.66274239e-03],\n",
       "       [            nan,  6.52990637e-12,  2.25159436e-03],\n",
       "       [            nan,  1.14322626e-10, -1.31601438e-03],\n",
       "       [            nan, -1.61915491e-10, -2.04092042e-03],\n",
       "       [            nan,  3.03500833e-11,  6.42245211e-03],\n",
       "       [            nan,  7.37374511e-11,  5.07006013e-03],\n",
       "       [            nan,  9.61414109e-11,  9.26746370e-05]])"
      ]
     },
     "execution_count": 33,
     "metadata": {},
     "output_type": "execute_result"
    }
   ],
   "source": [
    "A0"
   ]
  },
  {
   "cell_type": "code",
   "execution_count": 35,
   "metadata": {},
   "outputs": [],
   "source": [
    "transition_matrices = [np.zeros((n - 1, n - 1)) for _ in range(n)]\n",
    "for t in range(len(S)):\n",
    "    def gap(l, i):\n",
    "        if l < i:\n",
    "            return l\n",
    "        else:\n",
    "            return l - 1\n",
    "    i, j, k = S[t]\n",
    "    transition_matrices[i][gap(j, i), gap(k, i)] = 0.99 if y[t] == 1 else 0.01\n",
    "    transition_matrices[i][gap(k, i), gap(j, i)] = 0.99 if y[t] == -1 else 0.01\n",
    "\n",
    "for i in range(n):\n",
    "    d = np.max(np.sum(transition_matrices[i], axis=1))\n",
    "    transition_matrices[i] = transition_matrices[i] / d\n",
    "\n",
    "    self_loops = np.diag(1 - np.sum(transition_matrices[i], axis=1))\n",
    "\n",
    "    transition_matrices[i] += self_loops\n",
    "\n",
    "dists_from_i = []\n",
    "for i in range(n):\n",
    "    eigenvalues, eigenvectors = np.linalg.eigh(transition_matrices[i])\n",
    "    leading_index = np.where(np.isclose(eigenvalues, 1))[0]\n",
    "    leading_eigenvector = np.abs(eigenvectors[:, leading_index].real)\n",
    "    dists_wo_i = np.log(leading_eigenvector)\n",
    "    if not np.all(np.isfinite(dists_wo_i)):\n",
    "        print(i)\n",
    "    dists = np.zeros(n)\n",
    "    np.put(dists, list(range(i)) + list(range(i+1, n)), dists_wo_i)\n",
    "    dists_from_i.append(dists)\n",
    "D = np.stack(dists_from_i)\n"
   ]
  },
  {
   "cell_type": "code",
   "execution_count": 36,
   "metadata": {},
   "outputs": [],
   "source": [
    "J = np.identity(n) - (np.ones((n, 1)) @ np.ones((1, n))) / n\n",
    "H = - J @ D @ J / 2\n",
    "Xprime = J @ X_train\n",
    "\n",
    "XtHX = Xprime.T @ H @ Xprime / (n**2)\n",
    "Sigma = Xprime.T @ Xprime / n"
   ]
  },
  {
   "cell_type": "code",
   "execution_count": 37,
   "metadata": {},
   "outputs": [],
   "source": [
    "eigenvalues, eigenvectors = eigh(a=XtHX, b=Sigma)"
   ]
  },
  {
   "cell_type": "code",
   "execution_count": 38,
   "metadata": {},
   "outputs": [],
   "source": [
    "U = eigenvectors[:, np.argsort(eigenvalues)[-r:]]\n"
   ]
  },
  {
   "cell_type": "code",
   "execution_count": 39,
   "metadata": {},
   "outputs": [
    {
     "data": {
      "text/plain": [
       "array([[-0.07182495, -0.33177168,  0.18045973],\n",
       "       [ 0.03667948,  0.04839002, -0.15150435],\n",
       "       [ 0.01977101,  0.01559895, -0.03604452],\n",
       "       [ 0.02108022, -0.0759725 ,  0.06825837],\n",
       "       [ 1.46242186, -0.75165903, -1.14678456],\n",
       "       [-0.18970503,  0.07577766, -0.34092317],\n",
       "       [-0.11764776,  0.11308508, -0.49613449],\n",
       "       [ 0.65319258, -0.50000915, -0.80838978],\n",
       "       [-1.84068402,  1.04977482,  0.567658  ],\n",
       "       [-0.5429946 ,  0.07045635, -0.2620751 ],\n",
       "       [-0.55522734,  0.13345332, -0.57303416],\n",
       "       [-0.18883854, -0.11849849, -0.36146077],\n",
       "       [ 0.40535383,  0.39588348,  0.3328791 ],\n",
       "       [ 0.18858526, -0.02809735,  0.19664328],\n",
       "       [ 0.30995832,  0.33386107,  0.33151063],\n",
       "       [ 0.07865835,  0.0598699 ,  0.09377199],\n",
       "       [ 0.05396068,  0.00206116, -0.01872646],\n",
       "       [ 0.05029955,  0.01772147, -0.1607985 ],\n",
       "       [-0.27801994, -0.13740375, -0.25044412],\n",
       "       [-0.03648266,  0.18355382,  0.07275123],\n",
       "       [-0.02848243,  0.41063991, -0.04480334],\n",
       "       [ 0.17544111,  0.45826503,  0.07690305],\n",
       "       [ 0.13687028,  0.39199315,  0.1856534 ],\n",
       "       [ 0.26717914,  0.22475642,  0.1180334 ],\n",
       "       [ 0.23166841,  0.46163991, -0.02656247],\n",
       "       [-0.0770276 , -0.30281451,  0.11091643],\n",
       "       [-0.18547054, -0.88206168,  0.47142347],\n",
       "       [ 0.01458233, -0.2816164 ,  0.35179398],\n",
       "       [-0.02452293, -0.37636756,  0.27710491],\n",
       "       [-0.06083382, -0.32176522,  0.33669971]])"
      ]
     },
     "execution_count": 39,
     "metadata": {},
     "output_type": "execute_result"
    }
   ],
   "source": [
    "U"
   ]
  },
  {
   "cell_type": "code",
   "execution_count": 40,
   "metadata": {},
   "outputs": [],
   "source": [
    "Lambda = np.sort(eigenvalues)[-r:]"
   ]
  },
  {
   "cell_type": "code",
   "execution_count": 41,
   "metadata": {},
   "outputs": [
    {
     "data": {
      "text/plain": [
       "array([0.00547309, 0.0098498 , 0.01286321])"
      ]
     },
     "execution_count": 41,
     "metadata": {},
     "output_type": "execute_result"
    }
   ],
   "source": [
    "Lambda"
   ]
  },
  {
   "cell_type": "code",
   "execution_count": 42,
   "metadata": {},
   "outputs": [],
   "source": [
    "Ahat = U @ np.diag(np.sqrt(Lambda))"
   ]
  },
  {
   "cell_type": "code",
   "execution_count": 43,
   "metadata": {},
   "outputs": [
    {
     "data": {
      "text/plain": [
       "array([[-0.00531363, -0.03292707,  0.02046704],\n",
       "       [ 0.00271356,  0.00480252, -0.01718303],\n",
       "       [ 0.00146267,  0.00154814, -0.00408803],\n",
       "       [ 0.00155952, -0.00753998,  0.0077416 ],\n",
       "       [ 0.10819046, -0.07459928, -0.13006381],\n",
       "       [-0.01403444,  0.00752064, -0.03866617],\n",
       "       [-0.00870362,  0.01122326, -0.05626963],\n",
       "       [ 0.04832341, -0.049624  , -0.0916844 ],\n",
       "       [-0.13617443,  0.10418613,  0.06438155],\n",
       "       [-0.04017092,  0.00699252, -0.02972353],\n",
       "       [-0.04107591,  0.01324473, -0.06499129],\n",
       "       [-0.01397034, -0.01176052, -0.04099546],\n",
       "       [ 0.02998821,  0.03928992,  0.03775384],\n",
       "       [ 0.0139516 , -0.00278855,  0.02230251],\n",
       "       [ 0.02293082,  0.03313443,  0.03759864],\n",
       "       [ 0.00581917,  0.00594186,  0.01063525],\n",
       "       [ 0.00399203,  0.00020456, -0.00212388],\n",
       "       [ 0.00372118,  0.00175879, -0.01823714],\n",
       "       [-0.02056801, -0.0136368 , -0.02840439],\n",
       "       [-0.002699  ,  0.01821701,  0.00825116],\n",
       "       [-0.00210714,  0.04075444, -0.00508142],\n",
       "       [ 0.01297919,  0.04548105,  0.00872204],\n",
       "       [ 0.01012571,  0.03890382,  0.02105608],\n",
       "       [ 0.019766  ,  0.02230621,  0.01338689],\n",
       "       [ 0.01713891,  0.045816  , -0.00301261],\n",
       "       [-0.00569853, -0.03005318,  0.01257971],\n",
       "       [-0.01372117, -0.08754125,  0.053467  ],\n",
       "       [ 0.00107881, -0.02794935,  0.03989909],\n",
       "       [-0.00181421, -0.03735304,  0.03142815],\n",
       "       [-0.00450051, -0.03193397,  0.03818716]])"
      ]
     },
     "execution_count": 43,
     "metadata": {},
     "output_type": "execute_result"
    }
   ],
   "source": [
    "Ahat"
   ]
  },
  {
   "cell_type": "code",
   "execution_count": null,
   "metadata": {},
   "outputs": [],
   "source": []
  }
 ],
 "metadata": {
  "kernelspec": {
   "display_name": "metriclearning2",
   "language": "python",
   "name": "metriclearning2"
  },
  "language_info": {
   "codemirror_mode": {
    "name": "ipython",
    "version": 3
   },
   "file_extension": ".py",
   "mimetype": "text/x-python",
   "name": "python",
   "nbconvert_exporter": "python",
   "pygments_lexer": "ipython3",
   "version": "3.10.13"
  }
 },
 "nbformat": 4,
 "nbformat_minor": 4
}
