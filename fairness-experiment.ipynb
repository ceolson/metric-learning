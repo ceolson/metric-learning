{
 "cells": [
  {
   "cell_type": "code",
   "execution_count": 1,
   "metadata": {},
   "outputs": [
    {
     "name": "stderr",
     "output_type": "stream",
     "text": [
      "/n/home10/colson/.local/lib/python3.10/site-packages/torch/_functorch/deprecated.py:61: UserWarning: We've integrated functorch into PyTorch. As the final step of the integration, functorch.vmap is deprecated as of PyTorch 2.0 and will be deleted in a future version of PyTorch >= 2.3. Please use torch.vmap instead; see the PyTorch 2.0 release notes and/or the torch.func migration guide for more details https://pytorch.org/docs/master/func.migrating.html\n",
      "  warn_deprecated('vmap', 'torch.vmap')\n"
     ]
    }
   ],
   "source": [
    "import numpy as np\n",
    "from folktables import ACSDataSource, ACSMobility\n",
    "from matplotlib import pyplot as plt\n",
    "import torch\n",
    "from scipy import stats\n",
    "from scipy.sparse.linalg import lobpcg\n",
    "from scipy.linalg import eigh, eig\n",
    "import pandas as pd\n",
    "from inFairness.distances import MahalanobisDistances, SquaredEuclideanDistance\n",
    "from inFairness.fairalgo import SenSeI\n",
    "from inFairness.auditor import SenSeIAuditor\n",
    "from tqdm.auto import tqdm\n",
    "# from utils import *"
   ]
  },
  {
   "cell_type": "code",
   "execution_count": 2,
   "metadata": {},
   "outputs": [],
   "source": [
    "r = 3\n",
    "p = 30\n",
    "n = 100"
   ]
  },
  {
   "cell_type": "code",
   "execution_count": 3,
   "metadata": {},
   "outputs": [],
   "source": [
    "def generate_synthetic_data(n, r, p, X, S=None):\n",
    "    Astar = np.random.normal(0, 1, size=(p, r)) / np.sqrt(p)\n",
    "    Kstar = Astar @ Astar.T\n",
    "\n",
    "    if not S:\n",
    "        Sbar = []\n",
    "        for i in range(n):\n",
    "            for j in range(n):\n",
    "                for k in range(n):\n",
    "                    if i != j and j != k and k != i:\n",
    "                        Sbar.append((i, j, k))\n",
    "        Sbar = np.array(Sbar)\n",
    "    \n",
    "        choices = np.random.choice([False, True], size=len(Sbar), replace=True, p=[0, 1])\n",
    "        S = Sbar[choices, :]\n",
    "\n",
    "    M = []\n",
    "    for t in S:\n",
    "        i, j, k = t\n",
    "        Mt = np.outer(X[i], X[k]) + np.outer(X[k], X[i]) - np.outer(X[i], X[j]) - np.outer(X[j], X[i]) + np.outer(X[j], X[j]) - np.outer(X[k], X[k])\n",
    "        M.append(Mt)\n",
    "    M = np.array(M)\n",
    "\n",
    "    probs = 1 / (1 + np.exp(-np.einsum('ijj->i', np.einsum('ijk,kl->ijl', M,  Kstar))))\n",
    "\n",
    "    y = 2 * np.array(probs > np.random.random(np.shape(probs)), dtype=int) - 1\n",
    "    \n",
    "    # y = []\n",
    "    # for t in S:\n",
    "    #     i, j, k = t\n",
    "    #     prob = 1 / (1 + np.exp(m_dist2(X[i], X[k], Kstar) - m_dist2(X[i], X[j], Kstar)))\n",
    "    #     yt = np.random.choice([1, -1], size=1, p=[prob, 1 - prob])\n",
    "    #     y.append(yt)\n",
    "    # y = np.array(y)\n",
    "    \n",
    "    return M, S, y, Astar, Kstar\n",
    "\n",
    "def initialization(n, r, p, S, X, y):\n",
    "    transition_matrices = [np.zeros((n - 1, n - 1)) for _ in range(n)]\n",
    "    for t in range(len(S)):\n",
    "        def gap(l, i):\n",
    "            if l < i:\n",
    "                return l\n",
    "            else:\n",
    "                return l - 1\n",
    "        i, j, k = S[t]\n",
    "        transition_matrices[i][gap(j, i), gap(k, i)] = 1 if y[t] == -1 else 0\n",
    "        transition_matrices[i][gap(k, i), gap(j, i)] = 1 if y[t] == 1 else 0\n",
    "\n",
    "    for i in range(n):\n",
    "        d = np.max(np.sum(transition_matrices[i], axis=1))\n",
    "        transition_matrices[i] = transition_matrices[i] / d\n",
    "\n",
    "        self_loops = np.diag(1 - np.sum(transition_matrices[i], axis=1))\n",
    "\n",
    "        transition_matrices[i] += self_loops\n",
    "\n",
    "    dists_from_i = []\n",
    "    for i in range(n):\n",
    "        eigenvalues, eigenvectors = eig(transition_matrices[i], left=True, right=False)\n",
    "        leading_index = np.where(np.isclose(eigenvalues, 1))[0][0]\n",
    "        leading_eigenvector = eigenvectors[:, leading_index].real\n",
    "        dists_wo_i = np.log(leading_eigenvector)\n",
    "        if not np.all(np.isfinite(dists_wo_i)):\n",
    "            print(i)\n",
    "        dists = np.zeros(n)\n",
    "        np.put(dists, list(range(i)) + list(range(i+1, n)), dists_wo_i)\n",
    "        dists_from_i.append(dists)\n",
    "    D = np.stack(dists_from_i)\n",
    "\n",
    "    J = np.identity(n) - (np.ones((n, 1)) @ np.ones((1, n))) / n\n",
    "    H = - J @ D @ J / 2\n",
    "    Xprime = J @ X\n",
    "\n",
    "    XtHX = Xprime.T @ H @ Xprime / (n**2)\n",
    "    Sigma = Xprime.T @ Xprime / n\n",
    "    eigenvalues, eigenvectors = eigh(a=XtHX, b=Sigma)\n",
    "    U = eigenvectors[:, np.argsort(eigenvalues)[-r:]]\n",
    "    Lambda = np.sort(eigenvalues)[-r:]\n",
    "    Ahat = U @ np.diag(np.sqrt(Lambda))\n",
    "    return Ahat\n",
    "\n",
    "def clean_data(n, p, data):\n",
    "    X = data.head(n)\n",
    "    X = X.loc[:, X.var(axis=0) > 0]\n",
    "    X = X.sample(p, axis=1)\n",
    "    X = np.array(stats.zscore(np.array(X), axis=0))\n",
    "    return X\n",
    "\n",
    "def m_dist2(x1, x2, K):\n",
    "    return (x2 - x1).T @ K @ (x2 - x1)\n",
    "    "
   ]
  },
  {
   "cell_type": "code",
   "execution_count": 4,
   "metadata": {},
   "outputs": [],
   "source": [
    "data_source = ACSDataSource(survey_year='2018', horizon='1-Year', survey='person')\n",
    "acs_data = data_source.get_data(states=[\"TX\"], download=True)\n",
    "acs_data_adult = acs_data[acs_data[\"AGEP\"] >= 18]\n"
   ]
  },
  {
   "cell_type": "code",
   "execution_count": 5,
   "metadata": {},
   "outputs": [
    {
     "name": "stdout",
     "output_type": "stream",
     "text": [
      "(206826, 219)\n"
     ]
    }
   ],
   "source": [
    "acs_data_cleaned = acs_data_adult.select_dtypes(include=[\"float64\", \"int64\"])\n",
    "acs_data_cleaned = acs_data_cleaned.loc[:, ~(acs_data_cleaned.isna().any())]\n",
    "acs_data_cleaned = acs_data_cleaned.loc[:, (acs_data_cleaned.var(axis=0) > 0)]\n",
    "acs_data_cleaned = acs_data_cleaned.sample(frac=1, axis=0)\n",
    "print(np.shape(np.array(acs_data_cleaned)))\n"
   ]
  },
  {
   "cell_type": "code",
   "execution_count": 6,
   "metadata": {},
   "outputs": [
    {
     "name": "stdout",
     "output_type": "stream",
     "text": [
      "Generating synthetic data...\n"
     ]
    }
   ],
   "source": [
    "print(\"Generating synthetic data...\")\n",
    "X = clean_data(2 * n, p, acs_data_cleaned)\n",
    "X_train = X[:n]\n",
    "X_test = X[n:]"
   ]
  },
  {
   "cell_type": "code",
   "execution_count": 20,
   "metadata": {},
   "outputs": [
    {
     "name": "stdout",
     "output_type": "stream",
     "text": [
      "(100, 30) (100, 30)\n"
     ]
    }
   ],
   "source": [
    "M, S, y, Astar, Kstar = generate_synthetic_data(n, r, p, X_train)\n",
    "\n",
    "print(np.shape(X_train), np.shape(X_test))"
   ]
  },
  {
   "cell_type": "code",
   "execution_count": 21,
   "metadata": {
    "scrolled": true
   },
   "outputs": [],
   "source": [
    "transition_matrices = [np.zeros((n - 1, n - 1)) for _ in range(n)]\n",
    "for i, j, k in [(i, j, k) for i in range(n) for j in range(n) for k in range(n)]: # t in range(len(S)):\n",
    "    if i == j or j == k or i == k:\n",
    "        continue\n",
    "    def gap(l, i):\n",
    "        if l < i:\n",
    "            return l\n",
    "        else:\n",
    "            return l - 1\n",
    "    # i, j, k = S[t]\n",
    "    d_ij = m_dist2(X_train[i], X_train[j], Kstar)\n",
    "    d_ik = m_dist2(X_train[i], X_train[k], Kstar)\n",
    "    transition_matrices[i][gap(j, i), gap(k, i)] = np.exp(d_ik) / (np.exp(d_ij) + np.exp(d_ik)) # 1 if y[t] == -1 else 0\n",
    "    transition_matrices[i][gap(k, i), gap(j, i)] = np.exp(d_ij) / (np.exp(d_ij) + np.exp(d_ik)) # 1 if y[t] == 1 else 0\n",
    "\n",
    "for i in range(n):\n",
    "    transition_matrices[i] -= np.diag([transition_matrices[i][j,j] for j in range(n-1)])\n",
    "    d = np.max(np.sum(transition_matrices[i], axis=1))\n",
    "    transition_matrices[i] = transition_matrices[i] / d\n",
    "\n",
    "    self_loops = np.diag(1 - np.sum(transition_matrices[i], axis=1))\n",
    "\n",
    "    transition_matrices[i] += self_loops\n",
    "\n"
   ]
  },
  {
   "cell_type": "code",
   "execution_count": 22,
   "metadata": {},
   "outputs": [],
   "source": [
    "eigenvalues, eigenvectors = eig(transition_matrices[0], left=True, right=False)"
   ]
  },
  {
   "cell_type": "code",
   "execution_count": 23,
   "metadata": {},
   "outputs": [
    {
     "data": {
      "text/plain": [
       "array([ 0.97574999+0.j,  0.96355369+0.j,  0.94431262+0.j,  0.93821561+0.j,\n",
       "        0.9311286 +0.j,  0.98787499+0.j,  1.        +0.j,  0.91551   +0.j,\n",
       "        0.89998033+0.j,  0.88625268+0.j,  0.86695662+0.j,  0.85343434+0.j,\n",
       "        0.80285314+0.j,  0.84184318+0.j,  0.83778728+0.j,  0.83169762+0.j,\n",
       "        0.83468574+0.j,  0.75391629+0.j,  0.76281066+0.j,  0.7313554 +0.j,\n",
       "        0.7074993 +0.j,  0.71399945+0.j,  0.68763393+0.j,  0.69495559+0.j,\n",
       "        0.67462199+0.j,  0.65784395+0.j,  0.64207803+0.j,  0.58327903+0.j,\n",
       "        0.60848943+0.j,  0.59803613+0.j,  0.61747495+0.j,  0.6204718 +0.j,\n",
       "        0.5525182 +0.j,  0.54127283+0.j,  0.52873345+0.j,  0.5484894 +0.j,\n",
       "        0.50279991+0.j,  0.48420155+0.j,  0.51413964+0.j,  0.47192489+0.j,\n",
       "        0.43546411+0.j,  0.45085185+0.j,  0.4544044 +0.j,  0.41204836+0.j,\n",
       "        0.40022729+0.j, -0.00558294+0.j, -0.00207076+0.j,  0.35997141+0.j,\n",
       "        0.35531337+0.j,  0.34881041+0.j,  0.34503076+0.j,  0.30287804+0.j,\n",
       "        0.2860679 +0.j,  0.32691809+0.j,  0.33916777+0.j,  0.33193749+0.j,\n",
       "        0.31954011+0.j,  0.31349383+0.j,  0.26679803+0.j,  0.25455847+0.j,\n",
       "        0.01822786+0.j,  0.01626314+0.j,  0.02259043+0.j,  0.23442574+0.j,\n",
       "        0.02879205+0.j,  0.03700224+0.j,  0.05121845+0.j,  0.04878595+0.j,\n",
       "        0.18857396+0.j,  0.20011388+0.j,  0.21115914+0.j,  0.20970162+0.j,\n",
       "        0.20481034+0.j,  0.20715891+0.j,  0.16341099+0.j,  0.05606486+0.j,\n",
       "        0.06024906+0.j,  0.153315  +0.j,  0.14453732+0.j,  0.17336417+0.j,\n",
       "        0.17166807+0.j,  0.12896449+0.j,  0.07166603+0.j,  0.07344105+0.j,\n",
       "        0.07898913+0.j,  0.12319019+0.j,  0.09237245+0.j,  0.10792616+0.j,\n",
       "        0.0843255 +0.j,  0.11998894+0.j,  0.08699772+0.j,  0.10042426+0.j,\n",
       "        0.10314553+0.j,  0.09794301+0.j,  0.07585108+0.j,  0.11317389+0.j,\n",
       "        0.08551736+0.j,  0.11519957+0.j,  0.11483882+0.j])"
      ]
     },
     "execution_count": 23,
     "metadata": {},
     "output_type": "execute_result"
    }
   ],
   "source": [
    "eigenvalues"
   ]
  },
  {
   "cell_type": "code",
   "execution_count": 24,
   "metadata": {},
   "outputs": [
    {
     "data": {
      "text/plain": [
       "6"
      ]
     },
     "execution_count": 24,
     "metadata": {},
     "output_type": "execute_result"
    }
   ],
   "source": [
    "leading_index = np.where(np.isclose(eigenvalues, 1))[0][-1]\n",
    "leading_index"
   ]
  },
  {
   "cell_type": "code",
   "execution_count": 25,
   "metadata": {},
   "outputs": [
    {
     "data": {
      "text/plain": [
       "array([-3.58010614e-16, -4.55418312e-18,  2.44808151e-16,  1.70805792e-16,\n",
       "       -1.26905316e-16, -3.57703592e-16, -8.72241119e-16, -1.43971043e-16,\n",
       "        5.18330772e-17, -1.98180137e-16, -1.13612674e-16, -8.79554541e-17,\n",
       "       -1.20982970e-16, -1.34662297e-16, -1.39081929e-16, -1.25959593e-16,\n",
       "       -2.53624574e-16,  2.71469471e-17,  1.50454461e-16, -2.23678266e-16,\n",
       "       -1.04869625e-15, -1.00400546e-15, -4.63051450e-16, -4.03122754e-16,\n",
       "        1.55798652e-16, -1.07642200e-16,  3.93158755e-15, -1.21230958e-15,\n",
       "       -1.00000000e+00, -2.17197292e-16, -1.68280462e-16, -1.26351324e-17,\n",
       "       -4.87855406e-16,  2.60691025e-15,  2.02249791e-16,  5.01298837e-15,\n",
       "        1.92624690e-16,  3.03749699e-16,  7.31882198e-16, -3.99171538e-16,\n",
       "        5.40154964e-16,  1.83899955e-16,  6.60963576e-16,  5.80387048e-17,\n",
       "       -1.35669645e-16, -2.55618601e-16, -1.35376477e-17, -1.65571236e-15,\n",
       "        1.30170806e-16,  8.63304239e-17, -1.73832166e-16, -9.40791610e-17,\n",
       "        8.49578398e-17, -3.60303106e-15, -2.90856083e-16, -2.59681567e-16,\n",
       "       -2.98639973e-16, -1.58518761e-16, -2.08909870e-15,  2.22187102e-17,\n",
       "       -1.93809541e-16, -1.65885328e-16,  3.49678889e-15,  4.93696308e-18,\n",
       "        5.50720451e-15, -3.70820651e-15,  3.24009064e-16,  6.95381000e-16,\n",
       "       -5.84958388e-17, -3.08273318e-15, -1.40662486e-15,  2.63664922e-16,\n",
       "        3.36837153e-18,  2.46088208e-17,  7.59657292e-16,  9.49364794e-16,\n",
       "        1.24093937e-16, -1.15289693e-15,  3.44652117e-16,  2.80690268e-16,\n",
       "        4.73389569e-16, -1.79831121e-16, -3.81865491e-16,  1.78880486e-16,\n",
       "       -5.80281801e-16, -1.74693050e-17,  3.55085307e-17,  1.14645450e-16,\n",
       "       -6.44769535e-17,  7.21525951e-16,  9.45632040e-16, -2.66759306e-08,\n",
       "       -1.96987770e-16,  1.49192967e-19, -7.14694710e-17,  2.99599471e-16,\n",
       "       -1.51228862e-16,  6.31856475e-16, -2.41377382e-16])"
      ]
     },
     "execution_count": 25,
     "metadata": {},
     "output_type": "execute_result"
    }
   ],
   "source": [
    "leading_eigenvector = eigenvectors[:, leading_index]\n",
    "leading_eigenvector"
   ]
  },
  {
   "cell_type": "code",
   "execution_count": 15,
   "metadata": {},
   "outputs": [
    {
     "data": {
      "text/plain": [
       "array([1.        , 1.        , 1.        , 1.        , 1.        ,\n",
       "       1.        , 1.        , 1.00000001, 1.        , 0.99999999,\n",
       "       0.99999999, 1.00000003, 1.        , 1.        , 1.        ,\n",
       "       1.        , 1.        , 1.        , 1.        , 0.99999999,\n",
       "       1.        , 1.        , 1.00000001, 1.        , 0.99999998,\n",
       "       1.        , 1.        , 1.        , 1.        , 1.        ,\n",
       "       1.        , 1.        , 1.        , 1.        , 1.        ,\n",
       "       1.        , 0.99999997, 1.00000003, 1.        , 1.        ,\n",
       "       1.        , 1.        , 1.        , 1.        , 1.        ,\n",
       "       1.        , 1.        , 1.        , 1.        , 0.99999998,\n",
       "       1.        , 1.00000002, 1.        , 1.        , 1.        ,\n",
       "       1.        , 1.        , 1.        , 1.        , 1.        ,\n",
       "       1.        , 1.        , 1.        , 1.        , 1.        ,\n",
       "       1.        , 1.        , 0.99999999, 1.        , 1.        ,\n",
       "       1.        , 1.        , 1.        , 1.00000002, 1.        ,\n",
       "       1.        , 1.        , 1.        , 0.99999998, 1.        ,\n",
       "       1.        , 1.        , 1.        , 1.        , 1.        ,\n",
       "       1.00000002, 1.        , 1.        , 1.        , 1.        ,\n",
       "       1.        , 1.        , 1.        , 1.        , 1.00000003,\n",
       "       1.        , 1.        , 1.        , 1.        ])"
      ]
     },
     "execution_count": 15,
     "metadata": {},
     "output_type": "execute_result"
    }
   ],
   "source": [
    "(leading_eigenvector @ transition_matrices[0]) / leading_eigenvector"
   ]
  },
  {
   "cell_type": "code",
   "execution_count": null,
   "metadata": {
    "scrolled": true
   },
   "outputs": [],
   "source": [
    "dists_from_i = []\n",
    "for i in range(n):\n",
    "    eigenvalues, eigenvectors = eig(transition_matrices[i], left=True, right=False)\n",
    "    leading_index = np.where(np.isclose(eigenvalues, 1))[0][-1]\n",
    "    leading_eigenvector = eigenvectors[:, leading_index].real\n",
    "    dists_wo_i = np.log(leading_eigenvector)\n",
    "\n",
    "    #truncate\n",
    "\n",
    "\n",
    "    if not np.all(np.isfinite(dists_wo_i)):\n",
    "        print(i)\n",
    "    dists = np.zeros(n)\n",
    "    np.put(dists, list(range(i)) + list(range(i+1, n)), dists_wo_i)\n",
    "    dists_from_i.append(dists)\n",
    "D = np.stack(dists_from_i)"
   ]
  },
  {
   "cell_type": "code",
   "execution_count": 36,
   "metadata": {},
   "outputs": [],
   "source": [
    "J = np.identity(n) - (np.ones((n, 1)) @ np.ones((1, n))) / n\n",
    "H = - J @ D @ J / 2\n",
    "Xprime = J @ X_train\n",
    "\n",
    "XtHX = Xprime.T @ H @ Xprime / (n**2)\n",
    "Sigma = Xprime.T @ Xprime / n"
   ]
  },
  {
   "cell_type": "code",
   "execution_count": 37,
   "metadata": {},
   "outputs": [],
   "source": [
    "eigenvalues, eigenvectors = eigh(a=XtHX, b=Sigma)"
   ]
  },
  {
   "cell_type": "code",
   "execution_count": 38,
   "metadata": {},
   "outputs": [],
   "source": [
    "U = eigenvectors[:, np.argsort(eigenvalues)[-r:]]\n"
   ]
  },
  {
   "cell_type": "code",
   "execution_count": 39,
   "metadata": {},
   "outputs": [
    {
     "data": {
      "text/plain": [
       "array([[-0.07182495, -0.33177168,  0.18045973],\n",
       "       [ 0.03667948,  0.04839002, -0.15150435],\n",
       "       [ 0.01977101,  0.01559895, -0.03604452],\n",
       "       [ 0.02108022, -0.0759725 ,  0.06825837],\n",
       "       [ 1.46242186, -0.75165903, -1.14678456],\n",
       "       [-0.18970503,  0.07577766, -0.34092317],\n",
       "       [-0.11764776,  0.11308508, -0.49613449],\n",
       "       [ 0.65319258, -0.50000915, -0.80838978],\n",
       "       [-1.84068402,  1.04977482,  0.567658  ],\n",
       "       [-0.5429946 ,  0.07045635, -0.2620751 ],\n",
       "       [-0.55522734,  0.13345332, -0.57303416],\n",
       "       [-0.18883854, -0.11849849, -0.36146077],\n",
       "       [ 0.40535383,  0.39588348,  0.3328791 ],\n",
       "       [ 0.18858526, -0.02809735,  0.19664328],\n",
       "       [ 0.30995832,  0.33386107,  0.33151063],\n",
       "       [ 0.07865835,  0.0598699 ,  0.09377199],\n",
       "       [ 0.05396068,  0.00206116, -0.01872646],\n",
       "       [ 0.05029955,  0.01772147, -0.1607985 ],\n",
       "       [-0.27801994, -0.13740375, -0.25044412],\n",
       "       [-0.03648266,  0.18355382,  0.07275123],\n",
       "       [-0.02848243,  0.41063991, -0.04480334],\n",
       "       [ 0.17544111,  0.45826503,  0.07690305],\n",
       "       [ 0.13687028,  0.39199315,  0.1856534 ],\n",
       "       [ 0.26717914,  0.22475642,  0.1180334 ],\n",
       "       [ 0.23166841,  0.46163991, -0.02656247],\n",
       "       [-0.0770276 , -0.30281451,  0.11091643],\n",
       "       [-0.18547054, -0.88206168,  0.47142347],\n",
       "       [ 0.01458233, -0.2816164 ,  0.35179398],\n",
       "       [-0.02452293, -0.37636756,  0.27710491],\n",
       "       [-0.06083382, -0.32176522,  0.33669971]])"
      ]
     },
     "execution_count": 39,
     "metadata": {},
     "output_type": "execute_result"
    }
   ],
   "source": [
    "U"
   ]
  },
  {
   "cell_type": "code",
   "execution_count": 40,
   "metadata": {},
   "outputs": [],
   "source": [
    "Lambda = np.sort(eigenvalues)[-r:]"
   ]
  },
  {
   "cell_type": "code",
   "execution_count": 41,
   "metadata": {},
   "outputs": [
    {
     "data": {
      "text/plain": [
       "array([0.00547309, 0.0098498 , 0.01286321])"
      ]
     },
     "execution_count": 41,
     "metadata": {},
     "output_type": "execute_result"
    }
   ],
   "source": [
    "Lambda"
   ]
  },
  {
   "cell_type": "code",
   "execution_count": 42,
   "metadata": {},
   "outputs": [],
   "source": [
    "Ahat = U @ np.diag(np.sqrt(Lambda))"
   ]
  },
  {
   "cell_type": "code",
   "execution_count": 43,
   "metadata": {},
   "outputs": [
    {
     "data": {
      "text/plain": [
       "array([[-0.00531363, -0.03292707,  0.02046704],\n",
       "       [ 0.00271356,  0.00480252, -0.01718303],\n",
       "       [ 0.00146267,  0.00154814, -0.00408803],\n",
       "       [ 0.00155952, -0.00753998,  0.0077416 ],\n",
       "       [ 0.10819046, -0.07459928, -0.13006381],\n",
       "       [-0.01403444,  0.00752064, -0.03866617],\n",
       "       [-0.00870362,  0.01122326, -0.05626963],\n",
       "       [ 0.04832341, -0.049624  , -0.0916844 ],\n",
       "       [-0.13617443,  0.10418613,  0.06438155],\n",
       "       [-0.04017092,  0.00699252, -0.02972353],\n",
       "       [-0.04107591,  0.01324473, -0.06499129],\n",
       "       [-0.01397034, -0.01176052, -0.04099546],\n",
       "       [ 0.02998821,  0.03928992,  0.03775384],\n",
       "       [ 0.0139516 , -0.00278855,  0.02230251],\n",
       "       [ 0.02293082,  0.03313443,  0.03759864],\n",
       "       [ 0.00581917,  0.00594186,  0.01063525],\n",
       "       [ 0.00399203,  0.00020456, -0.00212388],\n",
       "       [ 0.00372118,  0.00175879, -0.01823714],\n",
       "       [-0.02056801, -0.0136368 , -0.02840439],\n",
       "       [-0.002699  ,  0.01821701,  0.00825116],\n",
       "       [-0.00210714,  0.04075444, -0.00508142],\n",
       "       [ 0.01297919,  0.04548105,  0.00872204],\n",
       "       [ 0.01012571,  0.03890382,  0.02105608],\n",
       "       [ 0.019766  ,  0.02230621,  0.01338689],\n",
       "       [ 0.01713891,  0.045816  , -0.00301261],\n",
       "       [-0.00569853, -0.03005318,  0.01257971],\n",
       "       [-0.01372117, -0.08754125,  0.053467  ],\n",
       "       [ 0.00107881, -0.02794935,  0.03989909],\n",
       "       [-0.00181421, -0.03735304,  0.03142815],\n",
       "       [-0.00450051, -0.03193397,  0.03818716]])"
      ]
     },
     "execution_count": 43,
     "metadata": {},
     "output_type": "execute_result"
    }
   ],
   "source": [
    "Ahat"
   ]
  },
  {
   "cell_type": "code",
   "execution_count": null,
   "metadata": {},
   "outputs": [],
   "source": []
  }
 ],
 "metadata": {
  "kernelspec": {
   "display_name": "metriclearning2",
   "language": "python",
   "name": "metriclearning2"
  },
  "language_info": {
   "codemirror_mode": {
    "name": "ipython",
    "version": 3
   },
   "file_extension": ".py",
   "mimetype": "text/x-python",
   "name": "python",
   "nbconvert_exporter": "python",
   "pygments_lexer": "ipython3",
   "version": "3.10.13"
  }
 },
 "nbformat": 4,
 "nbformat_minor": 4
}
