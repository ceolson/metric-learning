{
 "cells": [
  {
   "cell_type": "code",
   "execution_count": 1,
   "id": "17c8ace0-66ed-48dc-80e3-357f78a8d3d0",
   "metadata": {},
   "outputs": [],
   "source": [
    "import numpy as np\n",
    "from scipy.linalg import eigh, eig\n",
    "import pandas as pd\n",
    "from matplotlib import pyplot as plt"
   ]
  },
  {
   "cell_type": "code",
   "execution_count": 8,
   "id": "c5e05845-4617-4086-b63c-f85ac7f0ad7a",
   "metadata": {},
   "outputs": [],
   "source": [
    "def m_dist2(x1, x2, K):\n",
    "    return (x2 - x1).T @ K @ (x2 - x1)"
   ]
  },
  {
   "cell_type": "code",
   "execution_count": 14,
   "id": "b33c16a6-3fae-4c16-9756-156da6e44bb0",
   "metadata": {},
   "outputs": [],
   "source": [
    "n = 100\n",
    "p = 30\n",
    "r = 2"
   ]
  },
  {
   "cell_type": "code",
   "execution_count": 32,
   "id": "c73e71c3-33f2-4f8a-9ac9-655e8787bb9f",
   "metadata": {},
   "outputs": [],
   "source": [
    "X = np.random.normal(0, 1, size=(n, p))\n",
    "Astar = np.random.normal(0, 1, size=(p, r)) / np.sqrt(p)\n",
    "Kstar = Astar @ Astar.T"
   ]
  },
  {
   "cell_type": "code",
   "execution_count": 33,
   "id": "432b866b-d88f-40f1-905d-ebeecaa5a033",
   "metadata": {
    "scrolled": true
   },
   "outputs": [],
   "source": [
    "transition_matrices = [np.zeros((n - 1, n - 1)) for _ in range(n)]\n",
    "for i, j, k in [(i, j, k) for i in range(n) for j in range(n) for k in range(n)]: # t in range(len(S)):\n",
    "    if i == j or j == k or i == k:\n",
    "        continue\n",
    "    def gap(l, i):\n",
    "        if l < i:\n",
    "            return l\n",
    "        else:\n",
    "            return l - 1\n",
    "    # i, j, k = S[t]\n",
    "    d_ij = m_dist2(X[i], X[j], Kstar)\n",
    "    d_ik = m_dist2(X[i], X[k], Kstar)\n",
    "    transition_matrices[i][gap(j, i), gap(k, i)] = np.exp(d_ik) / (np.exp(d_ij) + np.exp(d_ik)) # 1 if y[t] == -1 else 0\n",
    "    transition_matrices[i][gap(k, i), gap(j, i)] = np.exp(d_ij) / (np.exp(d_ij) + np.exp(d_ik)) # 1 if y[t] == 1 else 0\n",
    "    # print(d_ij, d_ik)"
   ]
  },
  {
   "cell_type": "code",
   "execution_count": 34,
   "id": "1244b43e-d9ed-4e26-88f0-b4a958c5d605",
   "metadata": {},
   "outputs": [],
   "source": [
    "for i in range(n):\n",
    "    transition_matrices[i] -= np.diag([transition_matrices[i][j,j] for j in range(n-1)])\n",
    "    d = np.max(np.sum(transition_matrices[i], axis=1))\n",
    "    transition_matrices[i] = transition_matrices[i] / d\n",
    "\n",
    "    self_loops = np.diag(1 - np.sum(transition_matrices[i], axis=1))\n",
    "\n",
    "    transition_matrices[i] += self_loops"
   ]
  },
  {
   "cell_type": "code",
   "execution_count": 35,
   "id": "96e7459c-9eaa-4e95-94d2-e4f3d623add7",
   "metadata": {},
   "outputs": [
    {
     "data": {
      "text/plain": [
       "array([[0.29468755, 0.00685954, 0.01089734, ..., 0.00510878, 0.00426102,\n",
       "        0.00298652],\n",
       "       [0.00600927, 0.32567058, 0.01066614, ..., 0.00470715, 0.00389261,\n",
       "        0.00269381],\n",
       "       [0.00197147, 0.00220268, 0.65172477, ..., 0.00136959, 0.00105775,\n",
       "        0.00066711],\n",
       "       ...,\n",
       "       [0.00776004, 0.00816166, 0.01149922, ..., 0.19723548, 0.00552324,\n",
       "        0.00404878],\n",
       "       [0.00860779, 0.00897621, 0.01181107, ..., 0.00734557, 0.13294811,\n",
       "        0.00487824],\n",
       "       [0.0098823 , 0.010175  , 0.0122017 , ..., 0.00882004, 0.00799057,\n",
       "        0.03062301]])"
      ]
     },
     "execution_count": 35,
     "metadata": {},
     "output_type": "execute_result"
    }
   ],
   "source": [
    "transition_matrices[0]"
   ]
  },
  {
   "cell_type": "code",
   "execution_count": 36,
   "id": "8d64e4c1-b02d-415e-bdc9-154ea36a0c45",
   "metadata": {},
   "outputs": [],
   "source": [
    "eigenvalues, eigenvectors = eig(transition_matrices[0], left=True, right=False)"
   ]
  },
  {
   "cell_type": "code",
   "execution_count": 37,
   "id": "0ce163bd-7e50-4e19-8ed3-f943e1de27da",
   "metadata": {},
   "outputs": [
    {
     "data": {
      "text/plain": [
       "array([ 1.00000000e+00+0.j,  9.73329857e-01+0.j,  9.64552151e-01+0.j,\n",
       "        9.44983347e-01+0.j,  9.13014269e-01+0.j,  8.94838733e-01+0.j,\n",
       "        8.65645164e-01+0.j,  8.41853609e-01+0.j,  8.23355316e-01+0.j,\n",
       "        7.54500871e-01+0.j,  7.65569085e-01+0.j,  7.30635684e-01+0.j,\n",
       "        7.48935399e-01+0.j,  7.63672530e-01+0.j,  7.63105320e-01+0.j,\n",
       "        7.62726073e-01+0.j,  6.90028345e-01+0.j,  7.02609976e-01+0.j,\n",
       "        6.67526744e-01+0.j,  6.51386763e-01+0.j,  6.38146109e-01+0.j,\n",
       "        6.13135687e-01+0.j,  5.50159577e-01+0.j,  5.58131961e-01+0.j,\n",
       "        5.81517190e-01+0.j,  5.69947644e-01+0.j,  5.76700442e-01+0.j,\n",
       "        5.35806213e-01+0.j,  5.26800535e-01+0.j,  5.09779029e-01+0.j,\n",
       "        4.89834007e-01+0.j,  4.84726351e-01+0.j,  4.76057174e-01+0.j,\n",
       "        4.79074097e-01+0.j,  4.68550512e-01+0.j, -5.75876916e-03+0.j,\n",
       "        4.56776520e-01+0.j, -6.84583460e-04+0.j, -2.69148509e-03+0.j,\n",
       "        4.42334926e-01+0.j,  3.74967839e-03+0.j,  7.73201866e-03+0.j,\n",
       "        1.04020874e-02+0.j,  1.66345401e-02+0.j,  4.26798492e-01+0.j,\n",
       "        2.22345856e-02+0.j,  1.21950679e-02+0.j,  2.80460200e-02+0.j,\n",
       "        4.16200828e-01+0.j,  4.08569996e-01+0.j,  3.75540733e-02+0.j,\n",
       "        4.32615542e-02+0.j,  3.91921523e-02+0.j,  5.03714821e-02+0.j,\n",
       "        3.89598953e-01+0.j,  4.01100953e-01+0.j,  5.89937378e-02+0.j,\n",
       "        6.07215664e-02+0.j,  6.91745988e-02+0.j,  7.76596401e-02+0.j,\n",
       "        3.74422962e-01+0.j,  3.62416987e-01+0.j,  8.80532885e-02+0.j,\n",
       "        1.02218841e-01+0.j,  1.15111174e-01+0.j,  3.25322054e-01+0.j,\n",
       "        3.14826333e-01+0.j,  3.21510788e-01+0.j,  3.19890161e-01+0.j,\n",
       "        1.28917186e-01+0.j,  3.08778010e-01+0.j,  1.37431251e-01+0.j,\n",
       "        3.01926744e-01+0.j,  1.43065794e-01+0.j,  2.92503370e-01+0.j,\n",
       "        2.87986893e-01+0.j,  2.80034407e-01+0.j,  2.68520262e-01+0.j,\n",
       "        2.63290323e-01+0.j,  1.55832437e-01+0.j,  1.60364012e-01+0.j,\n",
       "        1.66103904e-01+0.j,  2.55489614e-01+0.j,  2.50225424e-01+0.j,\n",
       "        2.38512976e-01+0.j,  2.45955551e-01+0.j,  2.29147086e-01+0.j,\n",
       "        1.81631683e-01+0.j,  1.99702849e-01+0.j,  1.86291898e-01+0.j,\n",
       "        2.24695174e-01+0.j,  2.20476888e-01+0.j,  2.10666810e-01+0.j,\n",
       "        2.05693787e-01+0.j,  2.15613556e-01+0.j,  1.77473176e-01+0.j,\n",
       "        1.93565998e-01+0.j,  1.90462618e-01+0.j,  1.78444861e-01+0.j])"
      ]
     },
     "execution_count": 37,
     "metadata": {},
     "output_type": "execute_result"
    }
   ],
   "source": [
    "eigenvalues"
   ]
  },
  {
   "cell_type": "code",
   "execution_count": 38,
   "id": "05725298-b3f0-434e-aaa5-651eba23ceb0",
   "metadata": {},
   "outputs": [
    {
     "data": {
      "text/plain": [
       "0"
      ]
     },
     "execution_count": 38,
     "metadata": {},
     "output_type": "execute_result"
    }
   ],
   "source": [
    "leading_index = np.where(np.isclose(eigenvalues, 1))[0][-1]\n",
    "leading_index"
   ]
  },
  {
   "cell_type": "code",
   "execution_count": 39,
   "id": "5243f65b-105b-45f6-ad63-49c811b9c39a",
   "metadata": {},
   "outputs": [
    {
     "data": {
      "text/plain": [
       "array([1.23677914e-03, 1.41177571e-03, 6.83631109e-03, 3.47520305e-02,\n",
       "       4.21133719e-03, 1.53958050e-02, 8.76146520e-04, 9.13749882e-04,\n",
       "       3.33294166e-04, 1.04211788e-03, 5.83330643e-03, 6.94045967e-04,\n",
       "       7.19656964e-04, 7.71214372e-02, 8.11865397e-04, 2.48915571e-03,\n",
       "       4.81434202e-03, 1.53714950e-02, 1.02416509e-03, 1.05907952e-03,\n",
       "       2.86705210e-03, 4.05013566e-04, 6.84997914e-01, 1.00592344e-02,\n",
       "       6.57397247e-01, 7.71518207e-04, 1.45532545e-03, 9.47391589e-04,\n",
       "       9.67925615e-04, 2.73437667e-01, 3.51245538e-04, 3.41062666e-04,\n",
       "       8.05302193e-03, 2.17628704e-03, 2.87150610e-03, 2.01064948e-03,\n",
       "       4.02126419e-04, 3.03878483e-03, 4.81893825e-04, 2.86180678e-02,\n",
       "       3.74013918e-03, 7.24484490e-03, 4.67883390e-03, 1.08504977e-03,\n",
       "       1.23397925e-03, 3.45987186e-04, 2.01675867e-03, 7.66841814e-04,\n",
       "       1.34182232e-03, 4.43784221e-04, 8.61687842e-04, 1.35781434e-03,\n",
       "       6.41498955e-04, 5.36721398e-04, 4.63013211e-03, 1.42030443e-03,\n",
       "       1.37961537e-02, 2.68270510e-03, 4.93499952e-04, 1.77823720e-03,\n",
       "       1.14212177e-03, 1.13040158e-03, 7.07311911e-04, 9.37121445e-04,\n",
       "       2.97733016e-03, 9.48496913e-03, 3.99169361e-04, 4.24032528e-03,\n",
       "       3.23574253e-04, 1.55274464e-02, 1.80309520e-03, 4.48409108e-04,\n",
       "       5.71101485e-04, 4.16883404e-04, 7.71460068e-04, 8.30010152e-04,\n",
       "       7.90031987e-04, 6.45157029e-04, 4.75557162e-02, 8.99203153e-04,\n",
       "       2.11914056e-03, 3.80253244e-03, 4.50096910e-04, 1.42906945e-03,\n",
       "       3.24158609e-04, 3.39192463e-03, 1.27047518e-03, 1.54578643e-02,\n",
       "       1.58094334e-02, 2.80627570e-03, 3.50623278e-04, 2.29442102e-03,\n",
       "       1.06598364e-01, 3.17245942e-04, 1.37648286e-02, 3.66819124e-04,\n",
       "       8.14226924e-04, 6.12228792e-04, 3.73765286e-04])"
      ]
     },
     "execution_count": 39,
     "metadata": {},
     "output_type": "execute_result"
    }
   ],
   "source": [
    "leading_eigenvector = eigenvectors[:, leading_index]\n",
    "leading_eigenvector"
   ]
  },
  {
   "cell_type": "code",
   "execution_count": 40,
   "id": "0d38467e-5c47-4499-bee9-ca5fac82e9ec",
   "metadata": {},
   "outputs": [
    {
     "data": {
      "text/plain": [
       "array([1., 1., 1., 1., 1., 1., 1., 1., 1., 1., 1., 1., 1., 1., 1., 1., 1.,\n",
       "       1., 1., 1., 1., 1., 1., 1., 1., 1., 1., 1., 1., 1., 1., 1., 1., 1.,\n",
       "       1., 1., 1., 1., 1., 1., 1., 1., 1., 1., 1., 1., 1., 1., 1., 1., 1.,\n",
       "       1., 1., 1., 1., 1., 1., 1., 1., 1., 1., 1., 1., 1., 1., 1., 1., 1.,\n",
       "       1., 1., 1., 1., 1., 1., 1., 1., 1., 1., 1., 1., 1., 1., 1., 1., 1.,\n",
       "       1., 1., 1., 1., 1., 1., 1., 1., 1., 1., 1., 1., 1., 1.])"
      ]
     },
     "execution_count": 40,
     "metadata": {},
     "output_type": "execute_result"
    }
   ],
   "source": [
    "(leading_eigenvector @ transition_matrices[0]) / leading_eigenvector"
   ]
  },
  {
   "cell_type": "code",
   "execution_count": 9,
   "id": "ff67ece1-f87b-4ac6-9dc1-5ba1b5cd216d",
   "metadata": {},
   "outputs": [
    {
     "data": {
      "text/plain": [
       "array([-0.08700686+0.j, -0.10051242+0.j, -0.09633653+0.j, -0.09400719+0.j,\n",
       "       -0.10103996+0.j, -0.09636596+0.j, -0.10932856+0.j, -0.09751498+0.j,\n",
       "       -0.09815618+0.j, -0.09380789+0.j, -0.09409778+0.j, -0.09947913+0.j,\n",
       "       -0.09906814+0.j, -0.11499246+0.j, -0.09745646+0.j, -0.10049998+0.j,\n",
       "       -0.10888708+0.j, -0.10414221+0.j, -0.09940957+0.j, -0.10598289+0.j,\n",
       "       -0.09860562+0.j, -0.1116857 +0.j, -0.11129393+0.j, -0.10271615+0.j,\n",
       "       -0.10029126+0.j, -0.08772031+0.j, -0.09811791+0.j, -0.09579822+0.j,\n",
       "       -0.09232471+0.j, -0.10311469+0.j, -0.10320313+0.j, -0.09499096+0.j,\n",
       "       -0.10116324+0.j, -0.09789265+0.j, -0.09603266+0.j, -0.10892089+0.j,\n",
       "       -0.10787353+0.j, -0.10277032+0.j, -0.09718443+0.j, -0.10366086+0.j,\n",
       "       -0.10812984+0.j, -0.0980789 +0.j, -0.09796848+0.j, -0.0950985 +0.j,\n",
       "       -0.09550531+0.j, -0.09366224+0.j, -0.09534215+0.j, -0.08916473+0.j,\n",
       "       -0.08951198+0.j, -0.10361774+0.j, -0.09989051+0.j, -0.11149682+0.j,\n",
       "       -0.11490248+0.j, -0.10645049+0.j, -0.10767341+0.j, -0.096106  +0.j,\n",
       "       -0.09728743+0.j, -0.09068168+0.j, -0.09669889+0.j, -0.09701343+0.j,\n",
       "       -0.09645764+0.j, -0.0911082 +0.j, -0.10474397+0.j, -0.09873658+0.j,\n",
       "       -0.10933136+0.j, -0.10003194+0.j, -0.0996412 +0.j, -0.09134181+0.j,\n",
       "       -0.09724743+0.j, -0.0959789 +0.j, -0.10409095+0.j, -0.09860104+0.j,\n",
       "       -0.09746088+0.j, -0.10187919+0.j, -0.10253175+0.j, -0.11123756+0.j,\n",
       "       -0.09870392+0.j, -0.09855758+0.j, -0.09349815+0.j, -0.10176547+0.j,\n",
       "       -0.09454426+0.j, -0.09288859+0.j, -0.09645596+0.j, -0.10403572+0.j,\n",
       "       -0.10400832+0.j, -0.10091516+0.j, -0.09993453+0.j, -0.10561509+0.j,\n",
       "       -0.09789284+0.j, -0.10593979+0.j, -0.09752718+0.j, -0.09183952+0.j,\n",
       "       -0.10524435+0.j, -0.10078977+0.j, -0.10747473+0.j, -0.10149804+0.j,\n",
       "       -0.09601154+0.j, -0.10682846+0.j, -0.08865346+0.j, -0.09312053+0.j])"
      ]
     },
     "execution_count": 9,
     "metadata": {},
     "output_type": "execute_result"
    }
   ],
   "source": [
    "leading_eigenvector"
   ]
  },
  {
   "cell_type": "code",
   "execution_count": 3,
   "id": "15924fd0-2a95-4500-b116-a797b70a129e",
   "metadata": {},
   "outputs": [],
   "source": [
    "db = pd.read_csv(\"changing_n_sgd.csv\")"
   ]
  },
  {
   "cell_type": "code",
   "execution_count": 4,
   "id": "20c1b503-d10c-400b-8a32-de2edf3b4077",
   "metadata": {},
   "outputs": [
    {
     "data": {
      "text/html": [
       "<div>\n",
       "<style scoped>\n",
       "    .dataframe tbody tr th:only-of-type {\n",
       "        vertical-align: middle;\n",
       "    }\n",
       "\n",
       "    .dataframe tbody tr th {\n",
       "        vertical-align: top;\n",
       "    }\n",
       "\n",
       "    .dataframe thead th {\n",
       "        text-align: right;\n",
       "    }\n",
       "</style>\n",
       "<table border=\"1\" class=\"dataframe\">\n",
       "  <thead>\n",
       "    <tr style=\"text-align: right;\">\n",
       "      <th></th>\n",
       "      <th>n</th>\n",
       "      <th>aat to kstar</th>\n",
       "      <th>standard train loss</th>\n",
       "      <th>fair train loss</th>\n",
       "      <th>mean audit</th>\n",
       "      <th>std audit</th>\n",
       "      <th>lower bound audit</th>\n",
       "      <th>mean audit true</th>\n",
       "      <th>std audit true</th>\n",
       "      <th>lower bound audit true</th>\n",
       "      <th>worst</th>\n",
       "      <th>worst true</th>\n",
       "    </tr>\n",
       "  </thead>\n",
       "  <tbody>\n",
       "    <tr>\n",
       "      <th>0</th>\n",
       "      <td>100</td>\n",
       "      <td>0.083041</td>\n",
       "      <td>0.016200</td>\n",
       "      <td>0.0111</td>\n",
       "      <td>2.267358</td>\n",
       "      <td>5.084301</td>\n",
       "      <td>1.409339</td>\n",
       "      <td>1.207242</td>\n",
       "      <td>1.166893</td>\n",
       "      <td>1.010319</td>\n",
       "      <td>137.99640</td>\n",
       "      <td>97.913550</td>\n",
       "    </tr>\n",
       "    <tr>\n",
       "      <th>1</th>\n",
       "      <td>125</td>\n",
       "      <td>0.044739</td>\n",
       "      <td>0.007300</td>\n",
       "      <td>0.0044</td>\n",
       "      <td>1.284527</td>\n",
       "      <td>1.106264</td>\n",
       "      <td>1.121773</td>\n",
       "      <td>1.162476</td>\n",
       "      <td>0.849603</td>\n",
       "      <td>1.037482</td>\n",
       "      <td>117.98205</td>\n",
       "      <td>93.909584</td>\n",
       "    </tr>\n",
       "    <tr>\n",
       "      <th>2</th>\n",
       "      <td>150</td>\n",
       "      <td>0.040385</td>\n",
       "      <td>0.003400</td>\n",
       "      <td>0.0031</td>\n",
       "      <td>1.059486</td>\n",
       "      <td>0.373833</td>\n",
       "      <td>1.009279</td>\n",
       "      <td>1.087312</td>\n",
       "      <td>0.384810</td>\n",
       "      <td>1.035632</td>\n",
       "      <td>372.53647</td>\n",
       "      <td>349.644200</td>\n",
       "    </tr>\n",
       "    <tr>\n",
       "      <th>3</th>\n",
       "      <td>175</td>\n",
       "      <td>0.041253</td>\n",
       "      <td>0.007900</td>\n",
       "      <td>0.1397</td>\n",
       "      <td>1.187654</td>\n",
       "      <td>1.014316</td>\n",
       "      <td>1.060068</td>\n",
       "      <td>1.186914</td>\n",
       "      <td>1.052676</td>\n",
       "      <td>1.054503</td>\n",
       "      <td>299.55957</td>\n",
       "      <td>429.745120</td>\n",
       "    </tr>\n",
       "    <tr>\n",
       "      <th>4</th>\n",
       "      <td>200</td>\n",
       "      <td>0.048084</td>\n",
       "      <td>0.044200</td>\n",
       "      <td>0.0359</td>\n",
       "      <td>1.447693</td>\n",
       "      <td>2.617850</td>\n",
       "      <td>1.141681</td>\n",
       "      <td>1.226541</td>\n",
       "      <td>1.616080</td>\n",
       "      <td>1.037630</td>\n",
       "      <td>672.88270</td>\n",
       "      <td>287.726400</td>\n",
       "    </tr>\n",
       "    <tr>\n",
       "      <th>5</th>\n",
       "      <td>225</td>\n",
       "      <td>0.051791</td>\n",
       "      <td>0.000006</td>\n",
       "      <td>0.0287</td>\n",
       "      <td>1.049381</td>\n",
       "      <td>0.521416</td>\n",
       "      <td>0.992204</td>\n",
       "      <td>1.207815</td>\n",
       "      <td>1.043325</td>\n",
       "      <td>1.093407</td>\n",
       "      <td>286.81335</td>\n",
       "      <td>784.050900</td>\n",
       "    </tr>\n",
       "    <tr>\n",
       "      <th>6</th>\n",
       "      <td>250</td>\n",
       "      <td>0.055303</td>\n",
       "      <td>0.000200</td>\n",
       "      <td>0.0159</td>\n",
       "      <td>1.146303</td>\n",
       "      <td>0.923720</td>\n",
       "      <td>1.050208</td>\n",
       "      <td>1.091440</td>\n",
       "      <td>0.587884</td>\n",
       "      <td>1.030283</td>\n",
       "      <td>273.28940</td>\n",
       "      <td>411.596680</td>\n",
       "    </tr>\n",
       "    <tr>\n",
       "      <th>7</th>\n",
       "      <td>275</td>\n",
       "      <td>0.042940</td>\n",
       "      <td>0.053400</td>\n",
       "      <td>0.3523</td>\n",
       "      <td>1.031632</td>\n",
       "      <td>0.494292</td>\n",
       "      <td>0.982604</td>\n",
       "      <td>1.032887</td>\n",
       "      <td>0.420295</td>\n",
       "      <td>0.991199</td>\n",
       "      <td>1525.92050</td>\n",
       "      <td>489.415400</td>\n",
       "    </tr>\n",
       "    <tr>\n",
       "      <th>8</th>\n",
       "      <td>300</td>\n",
       "      <td>0.049488</td>\n",
       "      <td>0.262100</td>\n",
       "      <td>0.2550</td>\n",
       "      <td>1.017133</td>\n",
       "      <td>0.175002</td>\n",
       "      <td>1.000514</td>\n",
       "      <td>1.021940</td>\n",
       "      <td>0.180339</td>\n",
       "      <td>1.004814</td>\n",
       "      <td>1297.50760</td>\n",
       "      <td>190.672210</td>\n",
       "    </tr>\n",
       "    <tr>\n",
       "      <th>9</th>\n",
       "      <td>325</td>\n",
       "      <td>0.049173</td>\n",
       "      <td>0.037200</td>\n",
       "      <td>0.1498</td>\n",
       "      <td>1.018708</td>\n",
       "      <td>0.293797</td>\n",
       "      <td>0.991902</td>\n",
       "      <td>1.050337</td>\n",
       "      <td>0.300828</td>\n",
       "      <td>1.022890</td>\n",
       "      <td>556.76666</td>\n",
       "      <td>109.985720</td>\n",
       "    </tr>\n",
       "    <tr>\n",
       "      <th>10</th>\n",
       "      <td>350</td>\n",
       "      <td>0.041767</td>\n",
       "      <td>0.036700</td>\n",
       "      <td>0.0355</td>\n",
       "      <td>1.049959</td>\n",
       "      <td>0.258695</td>\n",
       "      <td>1.027215</td>\n",
       "      <td>1.053836</td>\n",
       "      <td>0.310633</td>\n",
       "      <td>1.026525</td>\n",
       "      <td>571.08420</td>\n",
       "      <td>651.579300</td>\n",
       "    </tr>\n",
       "    <tr>\n",
       "      <th>11</th>\n",
       "      <td>375</td>\n",
       "      <td>0.058635</td>\n",
       "      <td>0.070800</td>\n",
       "      <td>0.2883</td>\n",
       "      <td>1.026618</td>\n",
       "      <td>0.279469</td>\n",
       "      <td>1.002880</td>\n",
       "      <td>1.047211</td>\n",
       "      <td>0.315956</td>\n",
       "      <td>1.020374</td>\n",
       "      <td>138.15773</td>\n",
       "      <td>87.702736</td>\n",
       "    </tr>\n",
       "    <tr>\n",
       "      <th>12</th>\n",
       "      <td>400</td>\n",
       "      <td>0.057429</td>\n",
       "      <td>0.154600</td>\n",
       "      <td>0.3668</td>\n",
       "      <td>1.048974</td>\n",
       "      <td>0.299031</td>\n",
       "      <td>1.024380</td>\n",
       "      <td>1.030357</td>\n",
       "      <td>0.250339</td>\n",
       "      <td>1.009769</td>\n",
       "      <td>301.58047</td>\n",
       "      <td>537.804930</td>\n",
       "    </tr>\n",
       "  </tbody>\n",
       "</table>\n",
       "</div>"
      ],
      "text/plain": [
       "      n  aat to kstar  standard train loss  fair train loss  mean audit  \\\n",
       "0   100      0.083041             0.016200           0.0111    2.267358   \n",
       "1   125      0.044739             0.007300           0.0044    1.284527   \n",
       "2   150      0.040385             0.003400           0.0031    1.059486   \n",
       "3   175      0.041253             0.007900           0.1397    1.187654   \n",
       "4   200      0.048084             0.044200           0.0359    1.447693   \n",
       "5   225      0.051791             0.000006           0.0287    1.049381   \n",
       "6   250      0.055303             0.000200           0.0159    1.146303   \n",
       "7   275      0.042940             0.053400           0.3523    1.031632   \n",
       "8   300      0.049488             0.262100           0.2550    1.017133   \n",
       "9   325      0.049173             0.037200           0.1498    1.018708   \n",
       "10  350      0.041767             0.036700           0.0355    1.049959   \n",
       "11  375      0.058635             0.070800           0.2883    1.026618   \n",
       "12  400      0.057429             0.154600           0.3668    1.048974   \n",
       "\n",
       "    std audit  lower bound audit  mean audit true  std audit true  \\\n",
       "0    5.084301           1.409339         1.207242        1.166893   \n",
       "1    1.106264           1.121773         1.162476        0.849603   \n",
       "2    0.373833           1.009279         1.087312        0.384810   \n",
       "3    1.014316           1.060068         1.186914        1.052676   \n",
       "4    2.617850           1.141681         1.226541        1.616080   \n",
       "5    0.521416           0.992204         1.207815        1.043325   \n",
       "6    0.923720           1.050208         1.091440        0.587884   \n",
       "7    0.494292           0.982604         1.032887        0.420295   \n",
       "8    0.175002           1.000514         1.021940        0.180339   \n",
       "9    0.293797           0.991902         1.050337        0.300828   \n",
       "10   0.258695           1.027215         1.053836        0.310633   \n",
       "11   0.279469           1.002880         1.047211        0.315956   \n",
       "12   0.299031           1.024380         1.030357        0.250339   \n",
       "\n",
       "    lower bound audit true       worst  worst true  \n",
       "0                 1.010319   137.99640   97.913550  \n",
       "1                 1.037482   117.98205   93.909584  \n",
       "2                 1.035632   372.53647  349.644200  \n",
       "3                 1.054503   299.55957  429.745120  \n",
       "4                 1.037630   672.88270  287.726400  \n",
       "5                 1.093407   286.81335  784.050900  \n",
       "6                 1.030283   273.28940  411.596680  \n",
       "7                 0.991199  1525.92050  489.415400  \n",
       "8                 1.004814  1297.50760  190.672210  \n",
       "9                 1.022890   556.76666  109.985720  \n",
       "10                1.026525   571.08420  651.579300  \n",
       "11                1.020374   138.15773   87.702736  \n",
       "12                1.009769   301.58047  537.804930  "
      ]
     },
     "execution_count": 4,
     "metadata": {},
     "output_type": "execute_result"
    }
   ],
   "source": [
    "db"
   ]
  },
  {
   "cell_type": "code",
   "execution_count": 6,
   "id": "b04c4e1a-23e0-417f-bc43-85d1618d96ba",
   "metadata": {},
   "outputs": [
    {
     "data": {
      "text/plain": [
       "[<matplotlib.lines.Line2D at 0x10969ba70>]"
      ]
     },
     "execution_count": 6,
     "metadata": {},
     "output_type": "execute_result"
    },
    {
     "data": {
      "image/png": "[encoded data removed]",
      "text/plain": [
       "<Figure size 640x480 with 1 Axes>"
      ]
     },
     "metadata": {},
     "output_type": "display_data"
    }
   ],
   "source": [
    "plt.plot(db[\"n\"], db[\"mean audit\"] - db[\"mean audit true\"])"
   ]
  },
  {
   "cell_type": "code",
   "execution_count": 7,
   "id": "9ef55672-69e1-4618-9eb6-b7b1b35d3401",
   "metadata": {},
   "outputs": [
    {
     "data": {
      "text/plain": [
       "[<matplotlib.lines.Line2D at 0x1097c1220>]"
      ]
     },
     "execution_count": 7,
     "metadata": {},
     "output_type": "execute_result"
    },
    {
     "data": {
      "image/png": "[encoded data removed]",
      "text/plain": [
       "<Figure size 640x480 with 1 Axes>"
      ]
     },
     "metadata": {},
     "output_type": "display_data"
    }
   ],
   "source": [
    "plt.plot(db[\"n\"], db[\"aat to kstar\"])"
   ]
  },
  {
   "cell_type": "code",
   "execution_count": 6,
   "id": "03fd2c43-0ff2-41d6-a35e-4c57326afebd",
   "metadata": {},
   "outputs": [],
   "source": [
    "results = pd.DataFrame(columns=[\"n\", \"error\"])"
   ]
  },
  {
   "cell_type": "code",
   "execution_count": 7,
   "id": "33c238dd-5f61-41e3-87f1-6fdb64556839",
   "metadata": {},
   "outputs": [],
   "source": [
    "results.loc[len(results.index)] = {\"n\": 10, \"error\": 3}"
   ]
  },
  {
   "cell_type": "code",
   "execution_count": 8,
   "id": "a857dc53-d609-4833-88e5-96021d7db33a",
   "metadata": {},
   "outputs": [
    {
     "data": {
      "text/html": [
       "<div>\n",
       "<style scoped>\n",
       "    .dataframe tbody tr th:only-of-type {\n",
       "        vertical-align: middle;\n",
       "    }\n",
       "\n",
       "    .dataframe tbody tr th {\n",
       "        vertical-align: top;\n",
       "    }\n",
       "\n",
       "    .dataframe thead th {\n",
       "        text-align: right;\n",
       "    }\n",
       "</style>\n",
       "<table border=\"1\" class=\"dataframe\">\n",
       "  <thead>\n",
       "    <tr style=\"text-align: right;\">\n",
       "      <th></th>\n",
       "      <th>n</th>\n",
       "      <th>error</th>\n",
       "    </tr>\n",
       "  </thead>\n",
       "  <tbody>\n",
       "    <tr>\n",
       "      <th>0</th>\n",
       "      <td>10</td>\n",
       "      <td>3</td>\n",
       "    </tr>\n",
       "  </tbody>\n",
       "</table>\n",
       "</div>"
      ],
      "text/plain": [
       "    n  error\n",
       "0  10      3"
      ]
     },
     "execution_count": 8,
     "metadata": {},
     "output_type": "execute_result"
    }
   ],
   "source": [
    "results"
   ]
  },
  {
   "cell_type": "code",
   "execution_count": null,
   "id": "11146141-05a6-40e6-a8c2-07efbbad4d13",
   "metadata": {},
   "outputs": [],
   "source": []
  }
 ],
 "metadata": {
  "kernelspec": {
   "display_name": "Python 3 (ipykernel)",
   "language": "python",
   "name": "python3"
  },
  "language_info": {
   "codemirror_mode": {
    "name": "ipython",
    "version": 3
   },
   "file_extension": ".py",
   "mimetype": "text/x-python",
   "name": "python",
   "nbconvert_exporter": "python",
   "pygments_lexer": "ipython3",
   "version": "3.12.8"
  }
 },
 "nbformat": 4,
 "nbformat_minor": 5
}
