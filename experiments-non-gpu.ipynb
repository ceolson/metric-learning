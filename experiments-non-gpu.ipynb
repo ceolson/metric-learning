{
 "cells": [
  {
   "cell_type": "code",
   "execution_count": 1,
   "id": "eadbe3ce-514c-4b0a-a811-fec6f965d32f",
   "metadata": {},
   "outputs": [],
   "source": [
    "import numpy as np\n",
    "# from scipy import stats, linalg\n",
    "from folktables import ACSDataSource, ACSMobility\n",
    "from matplotlib import pyplot as plt\n",
    "import torch\n",
    "from scipy import stats\n",
    "import pandas as pd"
   ]
  },
  {
   "cell_type": "code",
   "execution_count": 2,
   "id": "4553af04-5cd2-4f6d-8fe7-cb96337ff601",
   "metadata": {},
   "outputs": [],
   "source": [
    "p = 20\n",
    "r = 3"
   ]
  },
  {
   "cell_type": "code",
   "execution_count": 3,
   "id": "dc6b4217-37e8-4d7f-9c4d-dfa18a270f35",
   "metadata": {},
   "outputs": [],
   "source": [
    "%load_ext memory_profiler"
   ]
  },
  {
   "cell_type": "code",
   "execution_count": 4,
   "id": "78c982bc-2e04-459b-8b03-8666254ad126",
   "metadata": {},
   "outputs": [],
   "source": [
    "def m_dist2(x1, x2, K):\n",
    "    return (x2 - x1).T @ K @ (x2 - x1)\n",
    "\n",
    "def generate_synthetic_data(n, r, p, data, S=None):\n",
    "    X = data.sample(n, axis=0)\n",
    "    X = X.loc[:, X.var(axis=0) > 0]\n",
    "    X = X.sample(p, axis=1)\n",
    "    X = np.array(stats.zscore(np.array(X), axis=0))\n",
    "   \n",
    "    Astar = np.random.normal(0, 1, size=(p, r)) / np.sqrt(p)\n",
    "    Kstar = Astar @ Astar.T\n",
    "\n",
    "    if not S:\n",
    "        Sbar = []\n",
    "        for i in range(n):\n",
    "            for j in range(n):\n",
    "                for k in range(n):\n",
    "                    if i != j and j != k and k != i:\n",
    "                        Sbar.append((i, j, k))\n",
    "        Sbar = np.array(Sbar)\n",
    "    \n",
    "        choices = np.random.choice([False, True], size=len(Sbar), replace=True, p=[0.95, 0.05])\n",
    "        S = Sbar[choices, :]\n",
    "\n",
    "    M = []\n",
    "    for t in S:\n",
    "        i, j, k = t\n",
    "        Mt = np.outer(X[i], X[k]) + np.outer(X[k], X[i]) - np.outer(X[i], X[j]) - np.outer(X[j], X[i]) + np.outer(X[j], X[j]) - np.outer(X[k], X[k])\n",
    "        M.append(Mt)\n",
    "    M = np.array(M)\n",
    "\n",
    "    probs = 1 / (1 + np.exp(-np.einsum('ijj->i', np.einsum('ijk,kl->ijl', M,  Kstar))))\n",
    "\n",
    "    y = 2 * np.array(probs > np.random.random(np.shape(probs)), dtype=int) - 1\n",
    "    \n",
    "    # y = []\n",
    "    # for t in S:\n",
    "    #     i, j, k = t\n",
    "    #     prob = 1 / (1 + np.exp(m_dist2(X[i], X[k], Kstar) - m_dist2(X[i], X[j], Kstar)))\n",
    "    #     yt = np.random.choice([1, -1], size=1, p=[prob, 1 - prob])\n",
    "    #     y.append(yt)\n",
    "    # y = np.array(y)\n",
    "    \n",
    "    return X, S, y, Astar, Kstar\n",
    "\n",
    "def initialization(n, p, S, X, y):\n",
    "    transition_matrices = [np.zeros((n - 1, n - 1)) for _ in range(n)]\n",
    "    for t in range(len(S)):\n",
    "        def gap(l, i):\n",
    "            if l < i:\n",
    "                return l\n",
    "            else:\n",
    "                return l - 1\n",
    "        i, j, k = S[t]\n",
    "        i = i.get()\n",
    "        j = j.get()\n",
    "        k = k.get()\n",
    "        transition_matrices[i][gap(j, i), gap(k, i)] = 0.99 if y[t] == 1 else 0.01\n",
    "        transition_matrices[i][gap(k, i), gap(j, i)] = 0.99 if y[t] == -1 else 0.01\n",
    "\n",
    "    for i in range(n):\n",
    "        d = np.max(np.sum(transition_matrices[i], axis=1))\n",
    "        transition_matrices[i] = transition_matrices[i] / d\n",
    "\n",
    "        self_loops = np.diag(1 - np.sum(transition_matrices[i], axis=1))\n",
    "\n",
    "        transition_matrices[i] += self_loops\n",
    "\n",
    "    dists_from_i = []\n",
    "    for i in range(n):\n",
    "        eigenvalues, eigenvectors = np.linalg.eigh(transition_matrices[i])\n",
    "        leading_index = np.where(np.isclose(eigenvalues, 1))[0]\n",
    "        leading_eigenvector = np.abs(eigenvectors[:, leading_index].real)\n",
    "        dists_wo_i = np.log(leading_eigenvector)\n",
    "        if not np.all(np.isfinite(dists_wo_i)):\n",
    "            print(i)\n",
    "        dists = np.zeros(n)\n",
    "        np.put(dists, list(range(i)) + list(range(i+1, n)), dists_wo_i)\n",
    "        dists_from_i.append(dists)\n",
    "    D = np.stack(dists_from_i)\n",
    "\n",
    "    J = np.identity(n) - (np.ones((n, 1)) @ np.ones((1, n))) / n\n",
    "    H = - J @ D @ J / 2\n",
    "    Xprime = J @ X\n",
    "    \n",
    "    XtHX = Xprime.T @ H @ Xprime / (n**2)\n",
    "    Sigma = Xprime.T @ Xprime / n\n",
    "    eigenvalues, eigenvectors = lobpcg(A=XtHX, B=Sigma, X=np.random.normal(size=(p,r)))\n",
    "    U = eigenvectors[:, np.argsort(eigenvalues)[-r:]]\n",
    "    Lambda = np.sort(eigenvalues)[-r:]\n",
    "    AAt = U @ np.diag(Lambda) @ U.T\n",
    "    \n",
    "    V, s, W = np.linalg.svd(AAt)\n",
    "    \n",
    "    top_r_indicies = np.argsort(s)[:r]\n",
    "    V_r = V[:, top_r_indicies].reshape((p, r))\n",
    "    s_r = s[top_r_indicies]\n",
    "    Ahat = V_r @ np.sqrt(np.diag(s_r))\n",
    "\n",
    "    return Ahat\n",
    "\n",
    "def L(A, triplets): \n",
    "    yMtAs = torch.einsum('bij,jk->bik', triplets, A)\n",
    "    yMtAATs = torch.einsum('bij,jk->bik', yMtAs, torch.transpose(A, 0, 1))\n",
    "    TryMtAATs = torch.einsum('bii->b', yMtAATs)\n",
    "    losses = torch.log(1 + torch.exp(-TryMtAATs))\n",
    "    \n",
    "    return torch.mean(losses)"
   ]
  },
  {
   "cell_type": "code",
   "execution_count": 34,
   "id": "2304abf2-1f5a-4da3-a934-79dbc79012a5",
   "metadata": {},
   "outputs": [],
   "source": [
    "n = 400\n",
    "p = 20\n",
    "r = 3"
   ]
  },
  {
   "cell_type": "code",
   "execution_count": 35,
   "id": "0962204a-4fba-4722-8842-f1dc719d6c35",
   "metadata": {},
   "outputs": [
    {
     "name": "stdout",
     "output_type": "stream",
     "text": [
      "peak memory: 1310.99 MiB, increment: 0.00 MiB\n"
     ]
    }
   ],
   "source": [
    "%memit synthetic_data = pd.DataFrame(np.random.normal(size=(1000, 50)))"
   ]
  },
  {
   "cell_type": "code",
   "execution_count": 36,
   "id": "3bb51c5a-56b1-4bb1-84c5-eec576f0ae69",
   "metadata": {},
   "outputs": [
    {
     "name": "stdout",
     "output_type": "stream",
     "text": [
      "peak memory: 1310.99 MiB, increment: 0.00 MiB\n",
      "peak memory: 1310.99 MiB, increment: 0.00 MiB\n",
      "peak memory: 1310.99 MiB, increment: 0.00 MiB\n",
      "peak memory: 1310.99 MiB, increment: 0.00 MiB\n"
     ]
    }
   ],
   "source": [
    "%memit X = synthetic_data.sample(1000, axis=0)\n",
    "%memit X = X.loc[:, X.var(axis=0) > 0]\n",
    "%memit X = X.sample(p, axis=1)\n",
    "%memit X = np.array(stats.zscore(np.array(X), axis=0))"
   ]
  },
  {
   "cell_type": "code",
   "execution_count": 37,
   "id": "aef76045-c40c-4e56-b6f8-9b957f4f8af1",
   "metadata": {},
   "outputs": [
    {
     "name": "stdout",
     "output_type": "stream",
     "text": [
      "peak memory: 1310.99 MiB, increment: 0.00 MiB\n",
      "peak memory: 1311.00 MiB, increment: 0.00 MiB\n"
     ]
    }
   ],
   "source": [
    "%memit Astar = np.random.normal(0, 1, size=(p, r)) / np.sqrt(p)\n",
    "%memit Kstar = Astar @ Astar.T"
   ]
  },
  {
   "cell_type": "code",
   "execution_count": 38,
   "id": "a90d19f2-7dfa-4e9c-9c28-49676abb3184",
   "metadata": {},
   "outputs": [
    {
     "name": "stdout",
     "output_type": "stream",
     "text": [
      "peak memory: 8336.18 MiB, increment: 7025.18 MiB\n"
     ]
    }
   ],
   "source": [
    "def generate_sbar():\n",
    "    S = []\n",
    "    for i in range(n):\n",
    "        for j in range(n):\n",
    "            for k in range(n):\n",
    "                if i != j and j != k and k != i:\n",
    "                    S.append((i, j, k))\n",
    "    S = np.array(S)\n",
    "    choices = np.random.choice([False, True], size=len(S), replace=True, p=[0.95, 0.05])\n",
    "    S = S[choices, :]\n",
    "    return np.array(S)\n",
    "\n",
    "%memit S = generate_sbar()\n"
   ]
  },
  {
   "cell_type": "code",
   "execution_count": 29,
   "id": "0f8f30e0-8990-47ca-8c08-4c634c373276",
   "metadata": {},
   "outputs": [
    {
     "name": "stdout",
     "output_type": "stream",
     "text": [
      "peak memory: 1034.69 MiB, increment: 105.43 MiB\n",
      "peak memory: 929.26 MiB, increment: 0.00 MiB\n"
     ]
    }
   ],
   "source": []
  },
  {
   "cell_type": "code",
   "execution_count": null,
   "id": "0e0e5363-13fc-4846-be58-c2c33dc2af74",
   "metadata": {},
   "outputs": [],
   "source": [
    "\n"
   ]
  },
  {
   "cell_type": "code",
   "execution_count": null,
   "id": "991c2dc0-be46-4c85-b69f-b3430f1fe7cb",
   "metadata": {},
   "outputs": [],
   "source": [
    "M = []\n",
    "for t in S:\n",
    "    i, j, k = t\n",
    "    Mt = np.outer(X[i], X[k]) + np.outer(X[k], X[i]) - np.outer(X[i], X[j]) - np.outer(X[j], X[i]) + np.outer(X[j], X[j]) - np.outer(X[k], X[k])\n",
    "    M.append(Mt)\n",
    "M = np.array(M)\n",
    "\n",
    "probs = 1 / (1 + np.exp(-np.einsum('ijj->i', np.einsum('ijk,kl->ijl', M,  Kstar))))\n",
    "\n",
    "y = 2 * np.array(probs > np.random.random(np.shape(probs)), dtype=int) - 1"
   ]
  },
  {
   "cell_type": "code",
   "execution_count": 8,
   "id": "6ba524fd-feb1-4acd-8582-c70ce10fd38e",
   "metadata": {},
   "outputs": [
    {
     "name": "stdout",
     "output_type": "stream",
     "text": [
      "peak memory: 7841.45 MiB, increment: 0.19 MiB\n"
     ]
    }
   ],
   "source": [
    "r = 3\n",
    "p = 20\n",
    "%memit X, S, y, Astar, Kstar = generate_synthetic_data(10, r, p, synthetic_data)"
   ]
  },
  {
   "cell_type": "code",
   "execution_count": 15,
   "id": "19c3a83f-2b0e-4619-82a6-4e5e2e47f75e",
   "metadata": {},
   "outputs": [
    {
     "name": "stdout",
     "output_type": "stream",
     "text": [
      "Generating synthetic data...\n",
      "(100, 20)\n",
      "Initializing...\n",
      "100\n",
      "1.8842892682261403\n",
      "Generating synthetic data...\n"
     ]
    },
    {
     "ename": "KeyboardInterrupt",
     "evalue": "",
     "output_type": "error",
     "traceback": [
      "\u001b[0;31m---------------------------------------------------------------------------\u001b[0m",
      "\u001b[0;31mKeyboardInterrupt\u001b[0m                         Traceback (most recent call last)",
      "Cell \u001b[0;32mIn[15], line 7\u001b[0m\n\u001b[1;32m      4\u001b[0m p \u001b[38;5;241m=\u001b[39m \u001b[38;5;241m20\u001b[39m\n\u001b[1;32m      6\u001b[0m \u001b[38;5;28mprint\u001b[39m(\u001b[38;5;124m\"\u001b[39m\u001b[38;5;124mGenerating synthetic data...\u001b[39m\u001b[38;5;124m\"\u001b[39m)   \n\u001b[0;32m----> 7\u001b[0m X, S, y, Astar, Kstar \u001b[38;5;241m=\u001b[39m \u001b[43mgenerate_synthetic_data\u001b[49m\u001b[43m(\u001b[49m\u001b[43mn\u001b[49m\u001b[43m,\u001b[49m\u001b[43m \u001b[49m\u001b[43mr\u001b[49m\u001b[43m,\u001b[49m\u001b[43m \u001b[49m\u001b[43mp\u001b[49m\u001b[43m,\u001b[49m\u001b[43m \u001b[49m\u001b[43msynthetic_data\u001b[49m\u001b[43m)\u001b[49m\n\u001b[1;32m      8\u001b[0m \u001b[38;5;28mprint\u001b[39m(cp\u001b[38;5;241m.\u001b[39mshape(X))\n\u001b[1;32m     10\u001b[0m cp\u001b[38;5;241m.\u001b[39msave(\u001b[38;5;124m\"\u001b[39m\u001b[38;5;124mAstar.cpy\u001b[39m\u001b[38;5;124m\"\u001b[39m, Astar\u001b[38;5;241m.\u001b[39mget())\n",
      "Cell \u001b[0;32mIn[14], line 32\u001b[0m, in \u001b[0;36mgenerate_synthetic_data\u001b[0;34m(n, r, p, data, S)\u001b[0m\n\u001b[1;32m     29\u001b[0m     M\u001b[38;5;241m.\u001b[39mappend(Mt)\n\u001b[1;32m     30\u001b[0m M \u001b[38;5;241m=\u001b[39m cp\u001b[38;5;241m.\u001b[39marray(M)\n\u001b[0;32m---> 32\u001b[0m probs \u001b[38;5;241m=\u001b[39m \u001b[38;5;241m1\u001b[39m \u001b[38;5;241m/\u001b[39m (\u001b[38;5;241m1\u001b[39m \u001b[38;5;241m+\u001b[39m cp\u001b[38;5;241m.\u001b[39mexp(\u001b[38;5;241m-\u001b[39mcp\u001b[38;5;241m.\u001b[39meinsum(\u001b[38;5;124m'\u001b[39m\u001b[38;5;124mijj->i\u001b[39m\u001b[38;5;124m'\u001b[39m, \u001b[43mcp\u001b[49m\u001b[38;5;241;43m.\u001b[39;49m\u001b[43meinsum\u001b[49m\u001b[43m(\u001b[49m\u001b[38;5;124;43m'\u001b[39;49m\u001b[38;5;124;43mijk,kl->ijl\u001b[39;49m\u001b[38;5;124;43m'\u001b[39;49m\u001b[43m,\u001b[49m\u001b[43m \u001b[49m\u001b[43mM\u001b[49m\u001b[43m,\u001b[49m\u001b[43m  \u001b[49m\u001b[43mKstar\u001b[49m\u001b[43m)\u001b[49m)))\n\u001b[1;32m     34\u001b[0m y \u001b[38;5;241m=\u001b[39m \u001b[38;5;241m2\u001b[39m \u001b[38;5;241m*\u001b[39m cp\u001b[38;5;241m.\u001b[39marray(probs \u001b[38;5;241m>\u001b[39m cp\u001b[38;5;241m.\u001b[39mrandom\u001b[38;5;241m.\u001b[39mrandom(cp\u001b[38;5;241m.\u001b[39mshape(probs)), dtype\u001b[38;5;241m=\u001b[39m\u001b[38;5;28mint\u001b[39m) \u001b[38;5;241m-\u001b[39m \u001b[38;5;241m1\u001b[39m\n\u001b[1;32m     36\u001b[0m \u001b[38;5;66;03m# y = []\u001b[39;00m\n\u001b[1;32m     37\u001b[0m \u001b[38;5;66;03m# for t in S:\u001b[39;00m\n\u001b[1;32m     38\u001b[0m \u001b[38;5;66;03m#     i, j, k = t\u001b[39;00m\n\u001b[0;32m   (...)\u001b[0m\n\u001b[1;32m     41\u001b[0m \u001b[38;5;66;03m#     y.append(yt)\u001b[39;00m\n\u001b[1;32m     42\u001b[0m \u001b[38;5;66;03m# y = cp.array(y)\u001b[39;00m\n",
      "File \u001b[0;32m~/.conda/envs/metriclearning2/lib/python3.10/site-packages/cupy/linalg/_einsum.py:444\u001b[0m, in \u001b[0;36meinsum\u001b[0;34m(*operands, **kwargs)\u001b[0m\n\u001b[1;32m    440\u001b[0m \u001b[38;5;28;01mdef\u001b[39;00m \u001b[38;5;21m_tuple_sorted_by_0\u001b[39m(zs):\n\u001b[1;32m    441\u001b[0m     \u001b[38;5;28;01mreturn\u001b[39;00m \u001b[38;5;28mtuple\u001b[39m(i \u001b[38;5;28;01mfor\u001b[39;00m _, i \u001b[38;5;129;01min\u001b[39;00m \u001b[38;5;28msorted\u001b[39m(zs))\n\u001b[0;32m--> 444\u001b[0m \u001b[38;5;28;01mdef\u001b[39;00m \u001b[38;5;21meinsum\u001b[39m(\u001b[38;5;241m*\u001b[39moperands, \u001b[38;5;241m*\u001b[39m\u001b[38;5;241m*\u001b[39mkwargs):\n\u001b[1;32m    445\u001b[0m \u001b[38;5;250m    \u001b[39m\u001b[38;5;124;03m\"\"\"einsum(subscripts, *operands, dtype=None, optimize=False)\u001b[39;00m\n\u001b[1;32m    446\u001b[0m \n\u001b[1;32m    447\u001b[0m \u001b[38;5;124;03m    Evaluates the Einstein summation convention on the operands.\u001b[39;00m\n\u001b[0;32m   (...)\u001b[0m\n\u001b[1;32m    488\u001b[0m \u001b[38;5;124;03m    .. _cuQuantum Python: https://docs.nvidia.com/cuda/cuquantum/python/\u001b[39;00m\n\u001b[1;32m    489\u001b[0m \u001b[38;5;124;03m    \"\"\"\u001b[39;00m\n\u001b[1;32m    490\u001b[0m     out \u001b[38;5;241m=\u001b[39m _try_use_cutensornet(\u001b[38;5;241m*\u001b[39moperands, \u001b[38;5;241m*\u001b[39m\u001b[38;5;241m*\u001b[39mkwargs)\n",
      "\u001b[0;31mKeyboardInterrupt\u001b[0m: "
     ]
    }
   ],
   "source": [
    "for n in [100, 200, 300, 400, 500, 600, 700, 800, 900, 1000]: # [200, 400, 600, 800, 1000, 1200, 1400, 1600, 1800, 2000]:\n",
    "    \n",
    "\n",
    "    \n",
    "    print(\"Generating synthetic data...\")   \n",
    "    X, S, y, Astar, Kstar = generate_synthetic_data(n, r, p, synthetic_data)\n",
    "    print(np.shape(X))\n",
    "    \n",
    "    np.save(\"Astar.npy\", Astar.get())\n",
    "    \n",
    "    print(\"Initializing...\")\n",
    "    A0 = initialization(n, p, S, y)\n",
    "    \n",
    "    print(n)\n",
    "    print(np.linalg.norm(Astar - A0))"
   ]
  },
  {
   "cell_type": "code",
   "execution_count": 82,
   "id": "4aa991b9-e1a1-4fd1-a5ca-a8f49abe7e87",
   "metadata": {},
   "outputs": [
    {
     "data": {
      "text/plain": [
       "48251"
      ]
     },
     "execution_count": 82,
     "metadata": {},
     "output_type": "execute_result"
    }
   ],
   "source": [
    "len(S)"
   ]
  },
  {
   "cell_type": "code",
   "execution_count": null,
   "id": "36a39bb7-20a7-4541-b36e-da4f11db5b25",
   "metadata": {},
   "outputs": [],
   "source": []
  }
 ],
 "metadata": {
  "kernelspec": {
   "display_name": "metriclearning2",
   "language": "python",
   "name": "metriclearning2"
  },
  "language_info": {
   "codemirror_mode": {
    "name": "ipython",
    "version": 3
   },
   "file_extension": ".py",
   "mimetype": "text/x-python",
   "name": "python",
   "nbconvert_exporter": "python",
   "pygments_lexer": "ipython3",
   "version": "3.10.13"
  }
 },
 "nbformat": 4,
 "nbformat_minor": 5
}
